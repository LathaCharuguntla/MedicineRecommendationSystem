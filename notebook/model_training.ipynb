{
 "cells": [
  {
   "cell_type": "code",
   "execution_count": 57,
   "metadata": {},
   "outputs": [],
   "source": [
    "import numpy as np\n",
    "import pandas as pd\n",
    "from sklearn.model_selection import train_test_split\n",
    "from sklearn.preprocessing import LabelEncoder\n",
    "import re\n",
    "from rapidfuzz import process\n"
   ]
  },
  {
   "cell_type": "code",
   "execution_count": 8,
   "metadata": {},
   "outputs": [
    {
     "data": {
      "text/html": [
       "<div>\n",
       "<style scoped>\n",
       "    .dataframe tbody tr th:only-of-type {\n",
       "        vertical-align: middle;\n",
       "    }\n",
       "\n",
       "    .dataframe tbody tr th {\n",
       "        vertical-align: top;\n",
       "    }\n",
       "\n",
       "    .dataframe thead th {\n",
       "        text-align: right;\n",
       "    }\n",
       "</style>\n",
       "<table border=\"1\" class=\"dataframe\">\n",
       "  <thead>\n",
       "    <tr style=\"text-align: right;\">\n",
       "      <th></th>\n",
       "      <th>abdominal_pain</th>\n",
       "      <th>abnormal_menstruation</th>\n",
       "      <th>acidity</th>\n",
       "      <th>acute_liver_failure</th>\n",
       "      <th>altered_sensorium</th>\n",
       "      <th>anxiety</th>\n",
       "      <th>back_pain</th>\n",
       "      <th>belly_pain</th>\n",
       "      <th>blackheads</th>\n",
       "      <th>bladder_discomfort</th>\n",
       "      <th>...</th>\n",
       "      <th>vomiting</th>\n",
       "      <th>watering_from_eyes</th>\n",
       "      <th>weakness_in_limbs</th>\n",
       "      <th>weakness_of_one_body_side</th>\n",
       "      <th>weight_gain</th>\n",
       "      <th>weight_loss</th>\n",
       "      <th>yellow_crust_ooze</th>\n",
       "      <th>yellow_urine</th>\n",
       "      <th>yellowing_of_eyes</th>\n",
       "      <th>yellowish_skin</th>\n",
       "    </tr>\n",
       "  </thead>\n",
       "  <tbody>\n",
       "    <tr>\n",
       "      <th>0</th>\n",
       "      <td>0</td>\n",
       "      <td>0</td>\n",
       "      <td>0</td>\n",
       "      <td>0</td>\n",
       "      <td>0</td>\n",
       "      <td>0</td>\n",
       "      <td>0</td>\n",
       "      <td>0</td>\n",
       "      <td>0</td>\n",
       "      <td>0</td>\n",
       "      <td>...</td>\n",
       "      <td>0</td>\n",
       "      <td>0</td>\n",
       "      <td>0</td>\n",
       "      <td>0</td>\n",
       "      <td>0</td>\n",
       "      <td>0</td>\n",
       "      <td>0</td>\n",
       "      <td>0</td>\n",
       "      <td>0</td>\n",
       "      <td>0</td>\n",
       "    </tr>\n",
       "    <tr>\n",
       "      <th>1</th>\n",
       "      <td>0</td>\n",
       "      <td>0</td>\n",
       "      <td>0</td>\n",
       "      <td>0</td>\n",
       "      <td>0</td>\n",
       "      <td>0</td>\n",
       "      <td>0</td>\n",
       "      <td>0</td>\n",
       "      <td>0</td>\n",
       "      <td>0</td>\n",
       "      <td>...</td>\n",
       "      <td>0</td>\n",
       "      <td>0</td>\n",
       "      <td>0</td>\n",
       "      <td>0</td>\n",
       "      <td>0</td>\n",
       "      <td>0</td>\n",
       "      <td>0</td>\n",
       "      <td>0</td>\n",
       "      <td>0</td>\n",
       "      <td>0</td>\n",
       "    </tr>\n",
       "    <tr>\n",
       "      <th>2</th>\n",
       "      <td>0</td>\n",
       "      <td>0</td>\n",
       "      <td>0</td>\n",
       "      <td>0</td>\n",
       "      <td>0</td>\n",
       "      <td>0</td>\n",
       "      <td>0</td>\n",
       "      <td>0</td>\n",
       "      <td>0</td>\n",
       "      <td>0</td>\n",
       "      <td>...</td>\n",
       "      <td>0</td>\n",
       "      <td>0</td>\n",
       "      <td>0</td>\n",
       "      <td>0</td>\n",
       "      <td>0</td>\n",
       "      <td>0</td>\n",
       "      <td>0</td>\n",
       "      <td>0</td>\n",
       "      <td>0</td>\n",
       "      <td>0</td>\n",
       "    </tr>\n",
       "    <tr>\n",
       "      <th>3</th>\n",
       "      <td>0</td>\n",
       "      <td>0</td>\n",
       "      <td>0</td>\n",
       "      <td>0</td>\n",
       "      <td>0</td>\n",
       "      <td>0</td>\n",
       "      <td>0</td>\n",
       "      <td>0</td>\n",
       "      <td>0</td>\n",
       "      <td>0</td>\n",
       "      <td>...</td>\n",
       "      <td>0</td>\n",
       "      <td>0</td>\n",
       "      <td>0</td>\n",
       "      <td>0</td>\n",
       "      <td>0</td>\n",
       "      <td>0</td>\n",
       "      <td>0</td>\n",
       "      <td>0</td>\n",
       "      <td>0</td>\n",
       "      <td>0</td>\n",
       "    </tr>\n",
       "    <tr>\n",
       "      <th>4</th>\n",
       "      <td>0</td>\n",
       "      <td>0</td>\n",
       "      <td>0</td>\n",
       "      <td>0</td>\n",
       "      <td>0</td>\n",
       "      <td>0</td>\n",
       "      <td>0</td>\n",
       "      <td>0</td>\n",
       "      <td>0</td>\n",
       "      <td>0</td>\n",
       "      <td>...</td>\n",
       "      <td>0</td>\n",
       "      <td>0</td>\n",
       "      <td>0</td>\n",
       "      <td>0</td>\n",
       "      <td>0</td>\n",
       "      <td>0</td>\n",
       "      <td>0</td>\n",
       "      <td>0</td>\n",
       "      <td>0</td>\n",
       "      <td>0</td>\n",
       "    </tr>\n",
       "  </tbody>\n",
       "</table>\n",
       "<p>5 rows × 133 columns</p>\n",
       "</div>"
      ],
      "text/plain": [
       "   abdominal_pain  abnormal_menstruation  acidity  acute_liver_failure  \\\n",
       "0               0                      0        0                    0   \n",
       "1               0                      0        0                    0   \n",
       "2               0                      0        0                    0   \n",
       "3               0                      0        0                    0   \n",
       "4               0                      0        0                    0   \n",
       "\n",
       "   altered_sensorium  anxiety  back_pain  belly_pain  blackheads  \\\n",
       "0                  0        0          0           0           0   \n",
       "1                  0        0          0           0           0   \n",
       "2                  0        0          0           0           0   \n",
       "3                  0        0          0           0           0   \n",
       "4                  0        0          0           0           0   \n",
       "\n",
       "   bladder_discomfort  ...  vomiting  watering_from_eyes  weakness_in_limbs  \\\n",
       "0                   0  ...         0                   0                  0   \n",
       "1                   0  ...         0                   0                  0   \n",
       "2                   0  ...         0                   0                  0   \n",
       "3                   0  ...         0                   0                  0   \n",
       "4                   0  ...         0                   0                  0   \n",
       "\n",
       "   weakness_of_one_body_side  weight_gain  weight_loss  yellow_crust_ooze  \\\n",
       "0                          0            0            0                  0   \n",
       "1                          0            0            0                  0   \n",
       "2                          0            0            0                  0   \n",
       "3                          0            0            0                  0   \n",
       "4                          0            0            0                  0   \n",
       "\n",
       "   yellow_urine  yellowing_of_eyes  yellowish_skin  \n",
       "0             0                  0               0  \n",
       "1             0                  0               0  \n",
       "2             0                  0               0  \n",
       "3             0                  0               0  \n",
       "4             0                  0               0  \n",
       "\n",
       "[5 rows x 133 columns]"
      ]
     },
     "execution_count": 8,
     "metadata": {},
     "output_type": "execute_result"
    }
   ],
   "source": [
    "df = pd.read_csv('../data/training.csv')\n",
    "df.head()"
   ]
  },
  {
   "cell_type": "code",
   "execution_count": 9,
   "metadata": {},
   "outputs": [],
   "source": [
    "X = df.drop(columns='prognosis', axis=1)\n",
    "Y = df['prognosis']\n",
    "encoder = LabelEncoder()\n",
    "y = encoder.fit_transform(Y)\n",
    "X_train,X_test, y_train, y_test = train_test_split(X, y, test_size=0.2, random_state=42)"
   ]
  },
  {
   "cell_type": "markdown",
   "metadata": {},
   "source": [
    "## Logistic Regression"
   ]
  },
  {
   "cell_type": "code",
   "execution_count": 12,
   "metadata": {},
   "outputs": [
    {
     "name": "stdout",
     "output_type": "stream",
     "text": [
      "Accuracy Train : 1.0\n",
      "Accuracy Test : 1.0\n",
      "Cross Validation Score : 1.0\n"
     ]
    }
   ],
   "source": [
    "from sklearn.linear_model import LogisticRegression\n",
    "from sklearn.metrics import accuracy_score, recall_score, precision_score, confusion_matrix\n",
    "from sklearn.model_selection import cross_val_score\n",
    "\n",
    "logistic_model = LogisticRegression(random_state=42)\n",
    "logistic_model.fit(X_train, y_train)\n",
    "\n",
    "y_pred_train = logistic_model.predict(X_train)\n",
    "y_pred_test = logistic_model.predict(X_test)\n",
    "\n",
    "accuracy_train = accuracy_score(y_train, y_pred_train)\n",
    "accuracy_test = accuracy_score(y_test, y_pred_test)\n",
    "\n",
    "cv = cross_val_score(logistic_model, X_train, y_train, cv=5, scoring='accuracy')\n",
    "\n",
    "print('Accuracy Train :', accuracy_train)\n",
    "print('Accuracy Test :', accuracy_test)\n",
    "print('Cross Validation Score :', cv.mean())\n",
    "\n",
    "results = {\n",
    "    'Model': 'Logistic Regression',\n",
    "    'Accuracy_Train': accuracy_train,\n",
    "    'Accuracy_Test' : accuracy_test,\n",
    "    'Cross_Validation_Score': cv.mean()\n",
    "}\n"
   ]
  },
  {
   "cell_type": "code",
   "execution_count": 13,
   "metadata": {},
   "outputs": [
    {
     "data": {
      "text/plain": [
       "['../notebook/logistic_model.joblib']"
      ]
     },
     "execution_count": 13,
     "metadata": {},
     "output_type": "execute_result"
    }
   ],
   "source": [
    "import joblib\n",
    "\n",
    "joblib.dump(logistic_model, '../notebook/logistic_model.joblib')"
   ]
  },
  {
   "cell_type": "code",
   "execution_count": 14,
   "metadata": {},
   "outputs": [],
   "source": [
    "model = joblib.load('../notebook/logistic_model.joblib')"
   ]
  },
  {
   "cell_type": "code",
   "execution_count": 15,
   "metadata": {},
   "outputs": [
    {
     "name": "stdout",
     "output_type": "stream",
     "text": [
      "Predicted Diease: [2]\n",
      "Actual Diease : 2\n"
     ]
    },
    {
     "name": "stderr",
     "output_type": "stream",
     "text": [
      "c:\\Users\\latha\\AppData\\Local\\Programs\\Python\\Python313\\Lib\\site-packages\\sklearn\\base.py:493: UserWarning: X does not have valid feature names, but LogisticRegression was fitted with feature names\n",
      "  warnings.warn(\n"
     ]
    }
   ],
   "source": [
    "print('Predicted Diease:', model.predict(X_test.iloc[0].values.reshape(1,-1)))\n",
    "print('Actual Diease :', y_test[0])"
   ]
  },
  {
   "cell_type": "markdown",
   "metadata": {},
   "source": [
    "## Recommendation System"
   ]
  },
  {
   "cell_type": "code",
   "execution_count": 77,
   "metadata": {},
   "outputs": [],
   "source": [
    "symptoms = pd.read_csv(\"../data/symptoms.csv\")\n",
    "precautions = pd.read_csv(\"../data/precautions.csv\")\n",
    "workout = pd.read_csv(\"../data/workout.csv\")\n",
    "description = pd.read_csv(\"../data/description.csv\")\n",
    "medications = pd.read_csv('../data/medications.csv')\n",
    "diets = pd.read_csv(\"../data/diets.csv\")"
   ]
  },
  {
   "cell_type": "code",
   "execution_count": 99,
   "metadata": {},
   "outputs": [
    {
     "data": {
      "text/plain": [
       "('Allergy is an immune system reaction to a substance in the environment.',\n",
       " [array(['apply calamine', 'cover area with bandage', nan,\n",
       "         'use ice to compress itching'], dtype=object)],\n",
       " [\"['Antihistamines', 'Decongestants', 'Epinephrine', 'Corticosteroids', 'Immunotherapy']\"],\n",
       " [\"['Elimination Diet', 'Omega-3-rich foods', 'Vitamin C-rich foods', 'Quercetin-rich foods', 'Probiotics']\"],\n",
       " ['Avoid allergenic foods',\n",
       "  'Consume anti-inflammatory foods',\n",
       "  'Include omega-3 fatty acids',\n",
       "  'Stay hydrated',\n",
       "  'Eat foods rich in vitamin C',\n",
       "  'Include quercetin-rich foods',\n",
       "  'Consume local honey',\n",
       "  'Limit processed foods',\n",
       "  'Include ginger in diet',\n",
       "  'Avoid artificial additives'])"
      ]
     },
     "execution_count": 99,
     "metadata": {},
     "output_type": "execute_result"
    }
   ],
   "source": [
    "def helper(disease):\n",
    "    desc = description[description['Disease']==disease]['Description']\n",
    "    desc = desc.iloc[0]\n",
    "\n",
    "    pre = precautions[precautions['Disease']==disease][['Precaution_1', 'Precaution_2', 'Precaution_3', 'Precaution_4']]\n",
    "    pre = [val for val in pre.values]\n",
    "\n",
    "    medi = medications[medications['Disease']==disease]['Medication']\n",
    "    medi = [val for val in medi.values]\n",
    "\n",
    "    die = diets[diets['Disease']==disease]['Diet']\n",
    "    die = [val for val in die.values]\n",
    "\n",
    "    work = workout[workout['disease']==disease]['workout']\n",
    "    work = [val for val in work.values]\n",
    "\n",
    "    return desc, pre, medi, die, work\n",
    "\n",
    "helper('Allergy')"
   ]
  },
  {
   "cell_type": "code",
   "execution_count": 80,
   "metadata": {},
   "outputs": [
    {
     "data": {
      "text/plain": [
       "Index(['abdominal_pain', 'abnormal_menstruation', 'acidity',\n",
       "       'acute_liver_failure', 'altered_sensorium', 'anxiety', 'back_pain',\n",
       "       'belly_pain', 'blackheads', 'bladder_discomfort',\n",
       "       ...\n",
       "       'vomiting', 'watering_from_eyes', 'weakness_in_limbs',\n",
       "       'weakness_of_one_body_side', 'weight_gain', 'weight_loss',\n",
       "       'yellow_crust_ooze', 'yellow_urine', 'yellowing_of_eyes',\n",
       "       'yellowish_skin'],\n",
       "      dtype='object', length=133)"
      ]
     },
     "execution_count": 80,
     "metadata": {},
     "output_type": "execute_result"
    }
   ],
   "source": [
    "df.columns"
   ]
  },
  {
   "cell_type": "code",
   "execution_count": 81,
   "metadata": {},
   "outputs": [
    {
     "data": {
      "text/plain": [
       "{'abdominalpain': 0,\n",
       " 'abnormalmenstruation': 1,\n",
       " 'acidity': 2,\n",
       " 'acuteliverfailure': 3,\n",
       " 'alteredsensorium': 4,\n",
       " 'anxiety': 5,\n",
       " 'backpain': 6,\n",
       " 'bellypain': 7,\n",
       " 'blackheads': 8,\n",
       " 'bladderdiscomfort': 9,\n",
       " 'blister': 10,\n",
       " 'bloodinsputum': 11,\n",
       " 'bloodystool': 12,\n",
       " 'blurredanddistortedvision': 13,\n",
       " 'breathlessness': 14,\n",
       " 'brittlenails': 15,\n",
       " 'bruising': 16,\n",
       " 'burningmicturition': 17,\n",
       " 'chestpain': 18,\n",
       " 'chills': 19,\n",
       " 'coldhandsandfeets': 20,\n",
       " 'coma': 21,\n",
       " 'congestion': 22,\n",
       " 'constipation': 23,\n",
       " 'continuousfeelofurine': 24,\n",
       " 'continuoussneezing': 25,\n",
       " 'cough': 26,\n",
       " 'cramps': 27,\n",
       " 'darkurine': 28,\n",
       " 'dehydration': 29,\n",
       " 'depression': 30,\n",
       " 'diarrhoea': 31,\n",
       " 'dischromic patches': 32,\n",
       " 'distentionofabdomen': 33,\n",
       " 'dizziness': 34,\n",
       " 'dryingandtinglinglips': 35,\n",
       " 'enlargedthyroid': 36,\n",
       " 'excessivehunger': 37,\n",
       " 'extramaritalcontacts': 38,\n",
       " 'familyhistory': 39,\n",
       " 'fastheartrate': 40,\n",
       " 'fatigue': 41,\n",
       " 'fluidoverload': 42,\n",
       " 'fluidoverload.1': 43,\n",
       " 'foulsmellof urine': 44,\n",
       " 'headache': 45,\n",
       " 'highfever': 46,\n",
       " 'hipjointpain': 47,\n",
       " 'historyofalcoholconsumption': 48,\n",
       " 'increasedappetite': 49,\n",
       " 'indigestion': 50,\n",
       " 'inflammatorynails': 51,\n",
       " 'internalitching': 52,\n",
       " 'irregularsugarlevel': 53,\n",
       " 'irritability': 54,\n",
       " 'irritationinanus': 55,\n",
       " 'itching': 56,\n",
       " 'jointpain': 57,\n",
       " 'kneepain': 58,\n",
       " 'lackofconcentration': 59,\n",
       " 'lethargy': 60,\n",
       " 'lossofappetite': 61,\n",
       " 'lossofbalance': 62,\n",
       " 'lossofsmell': 63,\n",
       " 'malaise': 64,\n",
       " 'mildfever': 65,\n",
       " 'moodswings': 66,\n",
       " 'movementstiffness': 67,\n",
       " 'mucoidsputum': 68,\n",
       " 'musclepain': 69,\n",
       " 'musclewasting': 70,\n",
       " 'muscleweakness': 71,\n",
       " 'nausea': 72,\n",
       " 'neckpain': 73,\n",
       " 'nodalskineruptions': 74,\n",
       " 'obesity': 75,\n",
       " 'painbehindtheeyes': 76,\n",
       " 'painduringbowelmovements': 77,\n",
       " 'paininanalregion': 78,\n",
       " 'painfulwalking': 79,\n",
       " 'palpitations': 80,\n",
       " 'passageofgases': 81,\n",
       " 'patchesinthroat': 82,\n",
       " 'phlegm': 83,\n",
       " 'polyuria': 84,\n",
       " 'prominentveinsoncalf': 86,\n",
       " 'puffyfaceandeyes': 87,\n",
       " 'pusfilledpimples': 88,\n",
       " 'receivingbloodtransfusion': 89,\n",
       " 'receivingunsterileinjections': 90,\n",
       " 'redsorearoundnose': 91,\n",
       " 'redspotsoverbody': 92,\n",
       " 'rednessofeyes': 93,\n",
       " 'restlessness': 94,\n",
       " 'runnynose': 95,\n",
       " 'rustysputum': 96,\n",
       " 'scurring': 97,\n",
       " 'shivering': 98,\n",
       " 'silverlikedusting': 99,\n",
       " 'sinuspressure': 100,\n",
       " 'skinpeeling': 101,\n",
       " 'skinrash': 102,\n",
       " 'slurredspeech': 103,\n",
       " 'smalldentsinnails': 104,\n",
       " 'spinningmovements': 105,\n",
       " 'spotting urination': 106,\n",
       " 'stiffneck': 107,\n",
       " 'stomachbleeding': 108,\n",
       " 'stomachpain': 109,\n",
       " 'sunkeneyes': 110,\n",
       " 'sweating': 111,\n",
       " 'swelledlymphnodes': 112,\n",
       " 'swellingjoints': 113,\n",
       " 'swellingofstomach': 114,\n",
       " 'swollenbloodvessels': 115,\n",
       " 'swollenextremeties': 116,\n",
       " 'swollenlegs': 117,\n",
       " 'throatirritation': 118,\n",
       " 'toxiclook(typhos)': 119,\n",
       " 'ulcersontongue': 120,\n",
       " 'unsteadiness': 121,\n",
       " 'visualdisturbances': 122,\n",
       " 'vomiting': 123,\n",
       " 'wateringfromeyes': 124,\n",
       " 'weaknessinlimbs': 125,\n",
       " 'weaknessofonebodyside': 126,\n",
       " 'weightgain': 127,\n",
       " 'weightloss': 128,\n",
       " 'yellowcrustooze': 129,\n",
       " 'yellowurine': 130,\n",
       " 'yellowingofeyes': 131,\n",
       " 'yellowishskin': 132}"
      ]
     },
     "execution_count": 81,
     "metadata": {},
     "output_type": "execute_result"
    }
   ],
   "source": [
    "symptoms_dict = {}\n",
    "for i, col in enumerate(df.columns):\n",
    "    if col=='prognosis':\n",
    "        continue\n",
    "    col = col.replace('_','')\n",
    "    symptoms_dict[col] = i\n",
    "\n",
    "symptoms_dict"
   ]
  },
  {
   "cell_type": "code",
   "execution_count": 82,
   "metadata": {},
   "outputs": [
    {
     "data": {
      "text/plain": [
       "{0: '(vertigo) Paroymsal  Positional Vertigo',\n",
       " 1: 'AIDS',\n",
       " 2: 'Acne',\n",
       " 3: 'Alcoholic hepatitis',\n",
       " 4: 'Allergy',\n",
       " 5: 'Arthritis',\n",
       " 6: 'Bronchial Asthma',\n",
       " 7: 'Cervical spondylosis',\n",
       " 8: 'Chicken pox',\n",
       " 9: 'Chronic cholestasis',\n",
       " 10: 'Common Cold',\n",
       " 11: 'Dengue',\n",
       " 12: 'Diabetes ',\n",
       " 13: 'Dimorphic hemmorhoids(piles)',\n",
       " 14: 'Drug Reaction',\n",
       " 15: 'Fungal infection',\n",
       " 16: 'GERD',\n",
       " 17: 'Gastroenteritis',\n",
       " 18: 'Heart attack',\n",
       " 19: 'Hepatitis B',\n",
       " 20: 'Hepatitis C',\n",
       " 21: 'Hepatitis D',\n",
       " 22: 'Hepatitis E',\n",
       " 23: 'Hypertension ',\n",
       " 24: 'Hyperthyroidism',\n",
       " 25: 'Hypoglycemia',\n",
       " 26: 'Hypothyroidism',\n",
       " 27: 'Impetigo',\n",
       " 28: 'Jaundice',\n",
       " 29: 'Malaria',\n",
       " 30: 'Migraine',\n",
       " 31: 'Osteoarthristis',\n",
       " 32: 'Paralysis (brain hemorrhage)',\n",
       " 33: 'Peptic ulcer diseae',\n",
       " 34: 'Pneumonia',\n",
       " 35: 'Psoriasis',\n",
       " 36: 'Tuberculosis',\n",
       " 37: 'Typhoid',\n",
       " 38: 'Urinary tract infection',\n",
       " 39: 'Varicose veins',\n",
       " 40: 'hepatitis A'}"
      ]
     },
     "execution_count": 82,
     "metadata": {},
     "output_type": "execute_result"
    }
   ],
   "source": [
    "disease_dict = dict(zip(range(len(encoder.classes_)), encoder.classes_))\n",
    "disease_dict"
   ]
  },
  {
   "cell_type": "code",
   "execution_count": 83,
   "metadata": {},
   "outputs": [],
   "source": [
    "def get_predicted_disease(symptoms):\n",
    "    input_vector = np.zeros(len(symptoms_dict))\n",
    "    for item in symptoms:\n",
    "        input_vector[symptoms_dict[item]]=1\n",
    "    predicted = model.predict([input_vector])[0]\n",
    "    return disease_dict[predicted]"
   ]
  },
  {
   "cell_type": "code",
   "execution_count": 101,
   "metadata": {},
   "outputs": [
    {
     "data": {
      "text/plain": [
       "['itching', 'backpain']"
      ]
     },
     "execution_count": 101,
     "metadata": {},
     "output_type": "execute_result"
    }
   ],
   "source": [
    "symptoms = input(\"Enter your sysmptoms\")\n",
    "user_symptoms = [s.strip() for s in symptoms.split(',')]\n",
    "user_symptoms = [s.strip(\"[]' \") for s in user_symptoms]\n",
    "user_symptoms\n",
    "\n",
    "\n"
   ]
  },
  {
   "cell_type": "code",
   "execution_count": 102,
   "metadata": {},
   "outputs": [
    {
     "data": {
      "text/plain": [
       "['itching', 'backpain']"
      ]
     },
     "execution_count": 102,
     "metadata": {},
     "output_type": "execute_result"
    }
   ],
   "source": [
    "def get_matched_symptoms(user_symptoms, symptoms_dict, threshold=80):\n",
    "    matched_symptoms = []\n",
    "    for symptom in user_symptoms:\n",
    "        cleaned_symptom = ''.join([char for char in symptom if char.isalpha()])\n",
    "        match, score,_ = process.extractOne(cleaned_symptom, symptoms_dict.keys())\n",
    "        if score >= threshold:\n",
    "            matched_symptoms.append(match)\n",
    "        else:\n",
    "            print(f\"The symptom {cleaned_symptom} didnt match. Enter the correct symptoms\")\n",
    "    return matched_symptoms\n",
    "\n",
    "symptoms =get_matched_symptoms(user_symptoms, symptoms_dict)\n",
    "symptoms"
   ]
  },
  {
   "cell_type": "code",
   "execution_count": 103,
   "metadata": {},
   "outputs": [
    {
     "name": "stdout",
     "output_type": "stream",
     "text": [
      "=================predicted disease============\n",
      "Fungal infection\n",
      "=================description==================\n",
      "Fungal infection is a common skin condition caused by fungi.\n",
      "=================precautions==================\n",
      "1 :  bath twice\n",
      "2 :  use detol or neem in bathing water\n",
      "3 :  keep infected area dry\n",
      "4 :  use clean cloths\n",
      "=================medications==================\n",
      "5 :  ['Antifungal Cream', 'Fluconazole', 'Terbinafine', 'Clotrimazole', 'Ketoconazole']\n",
      "=================workout==================\n",
      "6 :  Avoid sugary foods\n",
      "7 :  Consume probiotics\n",
      "8 :  Increase intake of garlic\n",
      "9 :  Include yogurt in diet\n",
      "10 :  Limit processed foods\n",
      "11 :  Stay hydrated\n",
      "12 :  Consume green tea\n",
      "13 :  Eat foods rich in zinc\n",
      "14 :  Include turmeric in diet\n",
      "15 :  Eat fruits and vegetables\n",
      "=================diets==================\n",
      "16 :  ['Antifungal Diet', 'Probiotics', 'Garlic', 'Coconut oil', 'Turmeric']\n"
     ]
    },
    {
     "name": "stderr",
     "output_type": "stream",
     "text": [
      "c:\\Users\\latha\\AppData\\Local\\Programs\\Python\\Python313\\Lib\\site-packages\\sklearn\\base.py:493: UserWarning: X does not have valid feature names, but LogisticRegression was fitted with feature names\n",
      "  warnings.warn(\n"
     ]
    }
   ],
   "source": [
    "predicted_disease = get_predicted_disease(symptoms)\n",
    "\n",
    "\n",
    "desc, pre, med, die, wrkout = helper(predicted_disease)\n",
    "\n",
    "print(\"=================predicted disease============\")\n",
    "print(predicted_disease)\n",
    "print(\"=================description==================\")\n",
    "print(desc)\n",
    "print(\"=================precautions==================\")\n",
    "i = 1\n",
    "for p_i in pre[0]:\n",
    "    print(i, \": \", p_i)\n",
    "    i += 1\n",
    "\n",
    "print(\"=================medications==================\")\n",
    "for m_i in med:\n",
    "    print(i, \": \", m_i)\n",
    "    i += 1\n",
    "\n",
    "print(\"=================workout==================\")\n",
    "for w_i in wrkout:\n",
    "    print(i, \": \", w_i)\n",
    "    i += 1\n",
    "\n",
    "print(\"=================diets==================\")\n",
    "for d_i in die:\n",
    "    print(i, \": \", d_i)\n",
    "    i += 1"
   ]
  },
  {
   "cell_type": "code",
   "execution_count": null,
   "metadata": {},
   "outputs": [],
   "source": []
  }
 ],
 "metadata": {
  "kernelspec": {
   "display_name": "Python 3",
   "language": "python",
   "name": "python3"
  },
  "language_info": {
   "codemirror_mode": {
    "name": "ipython",
    "version": 3
   },
   "file_extension": ".py",
   "mimetype": "text/x-python",
   "name": "python",
   "nbconvert_exporter": "python",
   "pygments_lexer": "ipython3",
   "version": "3.13.0"
  }
 },
 "nbformat": 4,
 "nbformat_minor": 2
}
